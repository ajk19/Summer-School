{
 "cells": [
  {
   "cell_type": "markdown",
   "metadata": {},
   "source": [
    "# Probability Distribution 概率分布"
   ]
  },
  {
   "cell_type": "markdown",
   "metadata": {},
   "source": [
    "Name: [Your name]\n",
    "\n",
    "本次作业的目的是让你体会, 参数的变化对于概率分布的影响. # set parameters下方的代码为参数设置, 你可以进行修改, 体会."
   ]
  },
  {
   "cell_type": "code",
   "execution_count": 17,
   "metadata": {},
   "outputs": [
    {
     "ename": "ModuleNotFoundError",
     "evalue": "No module named 'scipy'",
     "output_type": "error",
     "traceback": [
      "\u001b[1;31m---------------------------------------------------------------------------\u001b[0m",
      "\u001b[1;31mModuleNotFoundError\u001b[0m                       Traceback (most recent call last)",
      "Cell \u001b[1;32mIn[17], line 2\u001b[0m\n\u001b[0;32m      1\u001b[0m \u001b[38;5;28;01mimport\u001b[39;00m \u001b[38;5;21;01mnumpy\u001b[39;00m \u001b[38;5;28;01mas\u001b[39;00m \u001b[38;5;21;01mnp\u001b[39;00m\n\u001b[1;32m----> 2\u001b[0m \u001b[38;5;28;01mfrom\u001b[39;00m \u001b[38;5;21;01mscipy\u001b[39;00m \u001b[38;5;28;01mimport\u001b[39;00m stats\n\u001b[0;32m      3\u001b[0m \u001b[38;5;28;01mimport\u001b[39;00m \u001b[38;5;21;01mmatplotlib\u001b[39;00m\u001b[38;5;21;01m.\u001b[39;00m\u001b[38;5;21;01mpyplot\u001b[39;00m \u001b[38;5;28;01mas\u001b[39;00m \u001b[38;5;21;01mplt\u001b[39;00m\n",
      "\u001b[1;31mModuleNotFoundError\u001b[0m: No module named 'scipy'"
     ]
    }
   ],
   "source": [
    "import numpy as np\n",
    "from scipy import stats\n",
    "import matplotlib.pyplot as plt"
   ]
  },
  {
   "cell_type": "markdown",
   "metadata": {},
   "source": [
    "# Bernoulli Distribution 伯努利分布\n",
    "<script type=\"text/javascript\" src=\"http://cdn.mathjax.org/mathjax/latest/MathJax.js?config=default\"></script>\n",
    "\n",
    "$Bern(x|p) = p^{x}(1-p)^{1-x}$\n",
    "\n",
    "$0<p<1,p\\in R, x\\in\\{0,1\\}$\n",
    "\n",
    "$E[x] = p$\n",
    "\n",
    "$var[x] = p(1-p)$"
   ]
  },
  {
   "cell_type": "code",
   "execution_count": 15,
   "metadata": {},
   "outputs": [
    {
     "ename": "NameError",
     "evalue": "name 'stats' is not defined",
     "output_type": "error",
     "traceback": [
      "\u001b[1;31m---------------------------------------------------------------------------\u001b[0m",
      "\u001b[1;31mNameError\u001b[0m                                 Traceback (most recent call last)",
      "Cell \u001b[1;32mIn[15], line 5\u001b[0m\n\u001b[0;32m      2\u001b[0m p \u001b[38;5;241m=\u001b[39m \u001b[38;5;241m0.3\u001b[39m\n\u001b[0;32m      4\u001b[0m x \u001b[38;5;241m=\u001b[39m np\u001b[38;5;241m.\u001b[39marange(\u001b[38;5;241m0\u001b[39m,\u001b[38;5;241m2\u001b[39m)\n\u001b[1;32m----> 5\u001b[0m bernoulli \u001b[38;5;241m=\u001b[39m \u001b[43mstats\u001b[49m\u001b[38;5;241m.\u001b[39mbernoulli\u001b[38;5;241m.\u001b[39mpmf(x, p) \u001b[38;5;66;03m#pmf is the probability mass function \u001b[39;00m\n\u001b[0;32m      6\u001b[0m plt\u001b[38;5;241m.\u001b[39mplot(x, bernoulli, \u001b[38;5;124m'\u001b[39m\u001b[38;5;124mo\u001b[39m\u001b[38;5;124m'\u001b[39m)\n\u001b[0;32m      7\u001b[0m plt\u001b[38;5;241m.\u001b[39mtitle(\u001b[38;5;124m'\u001b[39m\u001b[38;5;124mBernoulli pmf: p=\u001b[39m\u001b[38;5;132;01m%.2f\u001b[39;00m\u001b[38;5;124m'\u001b[39m \u001b[38;5;241m%\u001b[39m (p), fontsize\u001b[38;5;241m=\u001b[39m\u001b[38;5;241m15\u001b[39m)\n",
      "\u001b[1;31mNameError\u001b[0m: name 'stats' is not defined"
     ]
    }
   ],
   "source": [
    "# set parameters\n",
    "p = 0.3\n",
    "\n",
    "x = np.arange(0,2)\n",
    "bernoulli = stats.bernoulli.pmf(x, p) #pmf is the probability mass function \n",
    "plt.plot(x, bernoulli, 'o')\n",
    "plt.title('Bernoulli pmf: p=%.2f' % (p), fontsize=15)\n",
    "plt.show()"
   ]
  },
  {
   "cell_type": "markdown",
   "metadata": {},
   "source": [
    "# Binomial Distribution 二项分布\n",
    "<script type=\"text/javascript\" src=\"http://cdn.mathjax.org/mathjax/latest/MathJax.js?config=default\"></script>\n",
    "\n",
    "$Bin(x|N, p) = C_m^Np^{x}(1-p)^{N-x}$\n",
    "\n",
    "$N\\in N_0, p\\in [0,1], k\\in\\{0,1,\\dots, N\\}$\n",
    "\n",
    "$E[x] = Np$\n",
    "\n",
    "$var[x] = Np(1-p)$"
   ]
  },
  {
   "cell_type": "code",
   "execution_count": 16,
   "metadata": {},
   "outputs": [
    {
     "ename": "NameError",
     "evalue": "name 'stats' is not defined",
     "output_type": "error",
     "traceback": [
      "\u001b[1;31m---------------------------------------------------------------------------\u001b[0m",
      "\u001b[1;31mNameError\u001b[0m                                 Traceback (most recent call last)",
      "Cell \u001b[1;32mIn[16], line 7\u001b[0m\n\u001b[0;32m      5\u001b[0m \u001b[38;5;28;01mfor\u001b[39;00m i \u001b[38;5;129;01min\u001b[39;00m \u001b[38;5;28mrange\u001b[39m(N\u001b[38;5;241m.\u001b[39mshape[\u001b[38;5;241m0\u001b[39m]):\n\u001b[0;32m      6\u001b[0m     x \u001b[38;5;241m=\u001b[39m np\u001b[38;5;241m.\u001b[39marange(\u001b[38;5;241m0\u001b[39m,N[i]\u001b[38;5;241m+\u001b[39m\u001b[38;5;241m1\u001b[39m)\n\u001b[1;32m----> 7\u001b[0m     binomial \u001b[38;5;241m=\u001b[39m \u001b[43mstats\u001b[49m\u001b[38;5;241m.\u001b[39mbinom\u001b[38;5;241m.\u001b[39mpmf(x, N[i], p[i])\n\u001b[0;32m      8\u001b[0m     plt\u001b[38;5;241m.\u001b[39mplot(x, binomial, \u001b[38;5;124m'\u001b[39m\u001b[38;5;124mo\u001b[39m\u001b[38;5;124m'\u001b[39m,label\u001b[38;5;241m=\u001b[39m(\u001b[38;5;124m'\u001b[39m\u001b[38;5;124mN=\u001b[39m\u001b[38;5;132;01m%i\u001b[39;00m\u001b[38;5;124m, p=\u001b[39m\u001b[38;5;132;01m%.2f\u001b[39;00m\u001b[38;5;124m'\u001b[39m \u001b[38;5;241m%\u001b[39m (N[i],p[i])))\n\u001b[0;32m      9\u001b[0m     plt\u001b[38;5;241m.\u001b[39mtitle(\u001b[38;5;124m'\u001b[39m\u001b[38;5;124mBinomial Distribution\u001b[39m\u001b[38;5;124m'\u001b[39m, fontsize\u001b[38;5;241m=\u001b[39m\u001b[38;5;241m15\u001b[39m)\n",
      "\u001b[1;31mNameError\u001b[0m: name 'stats' is not defined"
     ]
    }
   ],
   "source": [
    "# set parameters\n",
    "N = np.array([20, 20, 40])\n",
    "p = np.array([0.5, 0.7, 0.5])\n",
    "\n",
    "for i in range(N.shape[0]):\n",
    "    x = np.arange(0,N[i]+1)\n",
    "    binomial = stats.binom.pmf(x, N[i], p[i])\n",
    "    plt.plot(x, binomial, 'o',label=('N=%i, p=%.2f' % (N[i],p[i])))\n",
    "    plt.title('Binomial Distribution', fontsize=15)\n",
    "plt.legend(loc='best')\n",
    "plt.show()\n",
    "\n",
    "for i in range(N.shape[0]):\n",
    "    x = np.arange(0,N[i]+1)\n",
    "    binomial = stats.binom.cdf(x, N[i], p[i])\n",
    "    plt.plot(x, binomial, 'o',label=('N=%i, p=%.2f' % (N[i],p[i])))\n",
    "    plt.title('Binomial Distribution', fontsize=15)\n",
    "plt.legend(loc='best')\n",
    "plt.show()"
   ]
  },
  {
   "cell_type": "markdown",
   "metadata": {},
   "source": [
    "# Multinomial Distribution 多项式分布\n",
    "<script type=\"text/javascript\" src=\"http://cdn.mathjax.org/mathjax/latest/MathJax.js?config=default\"></script>\n",
    "\n",
    "$Mult(x_1, x_2\\dots, x_K|\\mu, N) = C_{x_1x_2\\dots x_K}^{N}\\prod\\limits_{k = 1}^K p_{k}^{x_{k}}$\n",
    "\n",
    "$N\\in N_0, \\sum p_{i}=1, x_i\\in{0,\\dots,N}, \\sum x_i=n$\n",
    "\n",
    "$E[x_k] = Np_k$\n",
    "\n",
    "$var[x_k] = Np_{k}(1-p_{k})$\n",
    "\n",
    "$cov[x_{j}x_{k}] = -Np_{j}p_{k}$"
   ]
  },
  {
   "cell_type": "code",
   "execution_count": null,
   "metadata": {},
   "outputs": [],
   "source": [
    "# set parameters\n",
    "p = np.array([0.4, 0.6])\n",
    "N = 7\n",
    "\n",
    "x = np.array([3,4])\n",
    "multinomial = stats.multinomial.pmf(x, N, p) #pmf is the probability mass function \n",
    "multinomial"
   ]
  },
  {
   "cell_type": "markdown",
   "metadata": {},
   "source": [
    "# Gamma Distribution Gamma分布\n",
    "<script type=\"text/javascript\" src=\"http://cdn.mathjax.org/mathjax/latest/MathJax.js?config=default\"></script>\n",
    "\n",
    "$Gam(x|a, b) = \\frac{1}{\\Gamma(a)}b^ax^{a-1}e^{-bx}$\n",
    "\n",
    "$a>0, b>0, x\\in(0,\\infty)$\n",
    "\n",
    "$E[x] = \\frac{a}{b}$\n",
    "\n",
    "$var[x] = \\frac{a}{b^2}$"
   ]
  },
  {
   "cell_type": "code",
   "execution_count": null,
   "metadata": {},
   "outputs": [],
   "source": [
    "# set parameters\n",
    "a = np.array([1, 5, 9])\n",
    "b = np.array([0.5, 1, 2])\n",
    "\n",
    "x = np.arange(0,20,20/100)\n",
    "for i in range(a.shape[0]):\n",
    "    gamma = stats.gamma.pdf(x, a[i], scale=1/b[i])\n",
    "    plt.plot(x, gamma, '-',label=('a=%.1f, b=%.1f' % (a[i],b[i])))\n",
    "    plt.title('Gamma Distribution', fontsize=15)\n",
    "plt.legend(loc='best')\n",
    "plt.show()\n",
    "\n",
    "for i in range(a.shape[0]):\n",
    "    gamma = stats.gamma.cdf(x, a[i], scale=1/b[i])\n",
    "    plt.plot(x, gamma, '-',label=('a=%.1f, b=%.1f' % (a[i],b[i])))\n",
    "    plt.title('Gamma Distribution', fontsize=15)\n",
    "plt.legend(loc='best')\n",
    "plt.show()"
   ]
  },
  {
   "cell_type": "markdown",
   "metadata": {},
   "source": [
    "# Beta Distribution beta分布\n",
    "<script type=\"text/javascript\" src=\"http://cdn.mathjax.org/mathjax/latest/MathJax.js?config=default\"></script>\n",
    "\n",
    "$Beta(x|a, b) = \\frac{\\Gamma(a+b)}{\\Gamma(a)\\Gamma(b)}x^{a-1}(1-x)^{b-1}$\n",
    "\n",
    "$a>0, b>0, x\\in [0,1]$\n",
    "\n",
    "$E[x] = \\frac{a}{a+b}$\n",
    "\n",
    "$var[x] = \\frac{ab}{(a+b)^{2}(a+b+a)}$"
   ]
  },
  {
   "cell_type": "code",
   "execution_count": null,
   "metadata": {},
   "outputs": [],
   "source": [
    "# set parameters\n",
    "a = np.array([0.5, 5, 1, 2, 2])\n",
    "b = np.array([0.5, 1, 3, 2, 5])\n",
    "\n",
    "x = np.arange(0, 1, 1/100)\n",
    "for i in range(a.shape[0]):\n",
    "    beta = stats.beta.pdf(x, a[i], b[i])\n",
    "    plt.plot(x, beta, '-',label=('a=%.1f, b=%.1f' % (a[i],b[i])))\n",
    "    plt.title('Beta Distribution', fontsize=15)\n",
    "plt.legend(loc='best')\n",
    "plt.show()\n",
    "\n",
    "for i in range(a.shape[0]):\n",
    "    beta = stats.beta.cdf(x, a[i], b[i])\n",
    "    plt.plot(x, beta, '-',label=('a=%.1f, b=%.1f' % (a[i],b[i])))\n",
    "    plt.title('Beta Distribution', fontsize=15)\n",
    "plt.legend(loc='best')\n",
    "plt.show()"
   ]
  },
  {
   "cell_type": "markdown",
   "metadata": {},
   "source": [
    "# Dirichlet Distribution 狄利克雷分布\n",
    "<script type=\"text/javascript\" src=\"http://cdn.mathjax.org/mathjax/latest/MathJax.js?config=default\"></script>\n",
    "\n",
    "$Dir(x|\\alpha) = C(\\alpha)\\prod\\limits_{k = 1}^K x_{k}^{\\alpha_k-1} $, $x=(x_1,x_2,\\dots,x_K)^T,\\alpha=(\\alpha_1,\\alpha_2,\\dots,\\alpha_K)^T$\n",
    "\n",
    "$\\sum\\limits_{k=1}^{K}x_{k}=1, x_k\\in(0,1)$, $\\widehat \\alpha=\\sum\\limits_{k=1}^{K}\\alpha_{k}, \\alpha_k>0$, $C(\\alpha)=\\frac{\\Gamma(\\widehat \\alpha)}{\\Gamma(\\alpha_1)\\dots\\Gamma(\\alpha_{K})}$\n",
    "\n",
    "$E[x_{k}] = \\frac{\\alpha_{k}}{\\widehat \\alpha}$\n",
    "\n",
    "$var[x_{k}] = \\frac{\\alpha_{k}(\\widehat \\alpha-\\alpha_{k})}{\\widehat \\alpha^2(\\widehat \\alpha+1)}$\n",
    "\n",
    "$cov[x_{j}x_{k}] = -\\frac{\\alpha_j\\alpha_k}{\\widehat \\alpha^2(\\widehat \\alpha+1)}$"
   ]
  },
  {
   "cell_type": "code",
   "execution_count": null,
   "metadata": {},
   "outputs": [],
   "source": [
    "# set parameters\n",
    "alpha = np.array([0.3, 0.4])\n",
    "\n",
    "x = np.array([0.2, 0.8])\n",
    "dirichlet = stats.dirichlet.pdf(x, alpha)\n",
    "dirichlet"
   ]
  },
  {
   "cell_type": "markdown",
   "metadata": {},
   "source": [
    "# Gaussian Distribution 高斯分布\n",
    "<script type=\"text/javascript\" src=\"http://cdn.mathjax.org/mathjax/latest/MathJax.js?config=default\"></script>\n",
    "\n",
    "$N(x|\\mu, \\sigma^2) = \\frac{1}{\\sqrt{2\\pi}\\sigma}e^{-\\frac{(x-\\mu)^2}{2\\sigma^2}}$\n",
    "\n",
    "$\\mu\\in R, \\sigma^2>0, x\\in R$\n",
    "\n",
    "$E[x] = \\mu$\n",
    "\n",
    "$var[x] = \\sigma^2$"
   ]
  },
  {
   "cell_type": "code",
   "execution_count": null,
   "metadata": {},
   "outputs": [],
   "source": [
    "# set parameters\n",
    "mu = np.array([0, 0, 0, -2])\n",
    "sigma2 = np.array([0.2, 1, 5, 0.5])\n",
    "\n",
    "x = np.arange(-5, 5,10/100)\n",
    "for i in range(mu.shape[0]):\n",
    "    gaussian = stats.norm.pdf(x, mu[i], np.sqrt(sigma2[i]))\n",
    "    plt.plot(x, gaussian, '-',label=('$\\mu$=%.1f, $\\sigma^2$=%.1f' % (mu[i],sigma2[i])))\n",
    "    plt.title('Gaussian Distribution', fontsize=15)\n",
    "plt.legend(loc='best')\n",
    "plt.show()\n",
    "\n",
    "for i in range(mu.shape[0]):\n",
    "    gaussian = stats.norm.cdf(x, mu[i], np.sqrt(sigma2[i]))\n",
    "    plt.plot(x, gaussian, '-',label=('$\\mu$=%.1f, $\\sigma^2$=%.1f' % (mu[i],sigma2[i])))\n",
    "    plt.title('Gaussian Distribution', fontsize=15)\n",
    "plt.legend(loc='best')\n",
    "plt.show()"
   ]
  },
  {
   "cell_type": "markdown",
   "metadata": {},
   "source": [
    "# Poisson Distribution 泊松分布\n",
    "<script type=\"text/javascript\" src=\"http://cdn.mathjax.org/mathjax/latest/MathJax.js?config=default\"></script>\n",
    "\n",
    "$P(x|\\lambda) = \\frac{\\lambda^xe^{-\\lambda}}{x!}$\n",
    "\n",
    "$\\lambda>0$, $x\\in N\\cup0$\n",
    "\n",
    "$E[x] = \\lambda$\n",
    "\n",
    "$var[x] = \\lambda$"
   ]
  },
  {
   "cell_type": "code",
   "execution_count": null,
   "metadata": {},
   "outputs": [],
   "source": [
    "# set parameters\n",
    "lamb = np.array([1, 4, 10])\n",
    "\n",
    "x = np.arange(21)\n",
    "for i in range(lamb.shape[0]):\n",
    "    poisson = stats.poisson.pmf(x, lamb[i])\n",
    "    plt.plot(x, poisson, 'o',label=('$\\lambda$=%.1f' % (lamb[i],)))\n",
    "    plt.title('Poisson Distribution', fontsize=15)\n",
    "plt.legend(loc='best')\n",
    "plt.show()\n",
    "\n",
    "for i in range(lamb.shape[0]):\n",
    "    poisson = stats.poisson.cdf(x, lamb[i])\n",
    "    plt.plot(x, poisson, 'o',label=('$\\lambda$=%.1f' % (lamb[i],)))\n",
    "    plt.title('Poisson Distribution', fontsize=15)\n",
    "plt.legend(loc='best')\n",
    "plt.show()"
   ]
  },
  {
   "cell_type": "code",
   "execution_count": null,
   "metadata": {},
   "outputs": [],
   "source": []
  }
 ],
 "metadata": {
  "kernelspec": {
   "display_name": "Python 3 (ipykernel)",
   "language": "python",
   "name": "python3"
  },
  "language_info": {
   "codemirror_mode": {
    "name": "ipython",
    "version": 3
   },
   "file_extension": ".py",
   "mimetype": "text/x-python",
   "name": "python",
   "nbconvert_exporter": "python",
   "pygments_lexer": "ipython3",
   "version": "3.10.6"
  }
 },
 "nbformat": 4,
 "nbformat_minor": 2
}
